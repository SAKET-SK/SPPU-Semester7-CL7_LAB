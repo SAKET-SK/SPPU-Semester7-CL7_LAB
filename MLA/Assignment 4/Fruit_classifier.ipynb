{
  "nbformat": 4,
  "nbformat_minor": 0,
  "metadata": {
    "colab": {
      "name": "Fruit_classifier.ipynb",
      "provenance": []
    },
    "kernelspec": {
      "name": "python3",
      "display_name": "Python 3"
    },
    "language_info": {
      "name": "python"
    }
  },
  "cells": [
    {
      "cell_type": "code",
      "metadata": {
        "id": "0tntCF4zLfKq"
      },
      "source": [
        "import pandas as pd\n",
        "from sklearn .model_selection import train_test_split\n",
        "from sklearn.svm import SVC\n",
        "from sklearn.metrics import confusion_matrix"
      ],
      "execution_count": 9,
      "outputs": []
    },
    {
      "cell_type": "code",
      "metadata": {
        "colab": {
          "base_uri": "https://localhost:8080/"
        },
        "id": "yxQFSTseLmFb",
        "outputId": "e9c5f323-7bad-41f6-9966-0fdc3696baa2"
      },
      "source": [
        "df = pd.read_csv('Fruits.csv')\n",
        "print(df.head(),\"\\n\")\n",
        "\n",
        "df.drop(['Index'], inplace=True, axis=1)\n",
        "print(df.head())"
      ],
      "execution_count": 3,
      "outputs": [
        {
          "output_type": "stream",
          "text": [
            "   Index  Weight  Size   Class\n",
            "0      0      69  4.39  orange\n",
            "1      1      69  4.21  orange\n",
            "2      2      65  4.09  orange\n",
            "3      3      72  5.85   apple\n",
            "4      4      67  4.70  orange \n",
            "\n",
            "   Weight  Size   Class\n",
            "0      69  4.39  orange\n",
            "1      69  4.21  orange\n",
            "2      65  4.09  orange\n",
            "3      72  5.85   apple\n",
            "4      67  4.70  orange\n"
          ],
          "name": "stdout"
        }
      ]
    },
    {
      "cell_type": "code",
      "metadata": {
        "colab": {
          "base_uri": "https://localhost:8080/"
        },
        "id": "66OeAiB1Lz_7",
        "outputId": "674eb6ea-8bf5-46b6-ed82-887335f187c2"
      },
      "source": [
        "train_data, test_data = train_test_split(df, test_size=0.2, random_state=1)\n",
        "x_train = train_data.iloc[:,0:2].values\n",
        "y_train = train_data.iloc[:,2].values\n",
        "x_test = test_data.iloc[:,0:2].values\n",
        "y_test = test_data.iloc[:,2].values\n",
        "\n",
        "print(\"\\n\", x_train, \"\\n\", y_train)"
      ],
      "execution_count": 5,
      "outputs": [
        {
          "output_type": "stream",
          "text": [
            "\n",
            " [[65.    4.09]\n",
            " [73.    5.79]\n",
            " [67.    4.7 ]\n",
            " [69.    4.21]\n",
            " [68.    4.47]\n",
            " [69.    4.39]\n",
            " [74.    5.22]\n",
            " [65.    4.27]\n",
            " [74.    5.36]\n",
            " [74.    5.53]\n",
            " [70.    5.47]\n",
            " [73.    5.68]] \n",
            " ['orange' 'apple' 'orange' 'orange' 'orange' 'orange' 'apple' 'orange'\n",
            " 'apple' 'apple' 'apple' 'apple']\n"
          ],
          "name": "stdout"
        }
      ]
    },
    {
      "cell_type": "code",
      "metadata": {
        "colab": {
          "base_uri": "https://localhost:8080/",
          "height": 242
        },
        "id": "GGRqHClbL2oZ",
        "outputId": "1c85b78d-5804-42cc-e177-878091a79c09"
      },
      "source": [
        "classifier = SVC(kernel='linear', verbose=True, random_state=1)\n",
        "classifier.fit(x_train, y_train)\n",
        "\n",
        "y_pred = classifier.predict(x_test)\n",
        "test_data['Prediction'] = y_pred\n",
        "test_data"
      ],
      "execution_count": 7,
      "outputs": [
        {
          "output_type": "stream",
          "text": [
            "[LibSVM]"
          ],
          "name": "stdout"
        },
        {
          "output_type": "stream",
          "text": [
            "/usr/local/lib/python3.7/dist-packages/ipykernel_launcher.py:5: SettingWithCopyWarning: \n",
            "A value is trying to be set on a copy of a slice from a DataFrame.\n",
            "Try using .loc[row_indexer,col_indexer] = value instead\n",
            "\n",
            "See the caveats in the documentation: https://pandas.pydata.org/pandas-docs/stable/user_guide/indexing.html#returning-a-view-versus-a-copy\n",
            "  \"\"\"\n"
          ],
          "name": "stderr"
        },
        {
          "output_type": "execute_result",
          "data": {
            "text/html": [
              "<div>\n",
              "<style scoped>\n",
              "    .dataframe tbody tr th:only-of-type {\n",
              "        vertical-align: middle;\n",
              "    }\n",
              "\n",
              "    .dataframe tbody tr th {\n",
              "        vertical-align: top;\n",
              "    }\n",
              "\n",
              "    .dataframe thead th {\n",
              "        text-align: right;\n",
              "    }\n",
              "</style>\n",
              "<table border=\"1\" class=\"dataframe\">\n",
              "  <thead>\n",
              "    <tr style=\"text-align: right;\">\n",
              "      <th></th>\n",
              "      <th>Weight</th>\n",
              "      <th>Size</th>\n",
              "      <th>Class</th>\n",
              "      <th>Prediction</th>\n",
              "    </tr>\n",
              "  </thead>\n",
              "  <tbody>\n",
              "    <tr>\n",
              "      <th>3</th>\n",
              "      <td>72</td>\n",
              "      <td>5.85</td>\n",
              "      <td>apple</td>\n",
              "      <td>apple</td>\n",
              "    </tr>\n",
              "    <tr>\n",
              "      <th>7</th>\n",
              "      <td>75</td>\n",
              "      <td>5.11</td>\n",
              "      <td>apple</td>\n",
              "      <td>apple</td>\n",
              "    </tr>\n",
              "    <tr>\n",
              "      <th>6</th>\n",
              "      <td>70</td>\n",
              "      <td>5.56</td>\n",
              "      <td>apple</td>\n",
              "      <td>apple</td>\n",
              "    </tr>\n",
              "  </tbody>\n",
              "</table>\n",
              "</div>"
            ],
            "text/plain": [
              "   Weight  Size  Class Prediction\n",
              "3      72  5.85  apple      apple\n",
              "7      75  5.11  apple      apple\n",
              "6      70  5.56  apple      apple"
            ]
          },
          "metadata": {
            "tags": []
          },
          "execution_count": 7
        }
      ]
    },
    {
      "cell_type": "code",
      "metadata": {
        "colab": {
          "base_uri": "https://localhost:8080/"
        },
        "id": "dGmPNrDTMgIT",
        "outputId": "71a4c2ad-d128-4de9-8325-4116b0ef6a34"
      },
      "source": [
        "c_metrics = confusion_matrix(y_true=y_test, y_pred=y_pred)\n",
        "accuracy = c_metrics.diagonal().sum() / len(y_test)\n",
        "accuracy"
      ],
      "execution_count": 11,
      "outputs": [
        {
          "output_type": "execute_result",
          "data": {
            "text/plain": [
              "1.0"
            ]
          },
          "metadata": {
            "tags": []
          },
          "execution_count": 11
        }
      ]
    }
  ]
}