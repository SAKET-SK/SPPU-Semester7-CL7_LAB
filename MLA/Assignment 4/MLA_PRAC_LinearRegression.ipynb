{
  "nbformat": 4,
  "nbformat_minor": 0,
  "metadata": {
    "colab": {
      "name": "Untitled4.ipynb",
      "provenance": []
    },
    "kernelspec": {
      "name": "python3",
      "display_name": "Python 3"
    },
    "language_info": {
      "name": "python"
    }
  },
  "cells": [
    {
      "cell_type": "code",
      "execution_count": 2,
      "metadata": {
        "id": "sGvEKqKNdo6h"
      },
      "outputs": [],
      "source": [
        "import pandas as pd\n",
        "import numpy as np\n",
        "import matplotlib.pyplot as plt"
      ]
    },
    {
      "cell_type": "code",
      "source": [
        "data = pd.read_csv(\"sample_data/abalone.csv\")"
      ],
      "metadata": {
        "id": "YoFJqevBeJKF"
      },
      "execution_count": 3,
      "outputs": []
    },
    {
      "cell_type": "code",
      "source": [
        "print(data)"
      ],
      "metadata": {
        "colab": {
          "base_uri": "https://localhost:8080/"
        },
        "id": "5CFGx4DifGld",
        "outputId": "4a3754df-9d3b-4e3a-ddba-851027511356"
      },
      "execution_count": 4,
      "outputs": [
        {
          "output_type": "stream",
          "name": "stdout",
          "text": [
            "     Sex  Length  Diameter  ...  Viscera weight  Shell weight  Rings\n",
            "0      M   0.455     0.365  ...          0.1010        0.1500     15\n",
            "1      M   0.350     0.265  ...          0.0485        0.0700      7\n",
            "2      F   0.530     0.420  ...          0.1415        0.2100      9\n",
            "3      M   0.440     0.365  ...          0.1140        0.1550     10\n",
            "4      I   0.330     0.255  ...          0.0395        0.0550      7\n",
            "...   ..     ...       ...  ...             ...           ...    ...\n",
            "4172   F   0.565     0.450  ...          0.2390        0.2490     11\n",
            "4173   M   0.590     0.440  ...          0.2145        0.2605     10\n",
            "4174   M   0.600     0.475  ...          0.2875        0.3080      9\n",
            "4175   F   0.625     0.485  ...          0.2610        0.2960     10\n",
            "4176   M   0.710     0.555  ...          0.3765        0.4950     12\n",
            "\n",
            "[4177 rows x 9 columns]\n"
          ]
        }
      ]
    },
    {
      "cell_type": "code",
      "source": [
        "# STEP 1 :- Splitting in train and test\n",
        "X_train = data[:1000]\n",
        "X_test = data[1000:]"
      ],
      "metadata": {
        "id": "fNnW_OGRfPY-"
      },
      "execution_count": 6,
      "outputs": []
    },
    {
      "cell_type": "code",
      "source": [
        "print(\"Training data set is \")\n",
        "print(X_train)"
      ],
      "metadata": {
        "colab": {
          "base_uri": "https://localhost:8080/"
        },
        "id": "7XUAMjZjfzal",
        "outputId": "9534be2e-f122-490d-80aa-dafb72327e79"
      },
      "execution_count": 7,
      "outputs": [
        {
          "output_type": "stream",
          "name": "stdout",
          "text": [
            "Training data set is \n",
            "    Sex  Length  Diameter  ...  Viscera weight  Shell weight  Rings\n",
            "0     M   0.455     0.365  ...          0.1010         0.150     15\n",
            "1     M   0.350     0.265  ...          0.0485         0.070      7\n",
            "2     F   0.530     0.420  ...          0.1415         0.210      9\n",
            "3     M   0.440     0.365  ...          0.1140         0.155     10\n",
            "4     I   0.330     0.255  ...          0.0395         0.055      7\n",
            "..   ..     ...       ...  ...             ...           ...    ...\n",
            "995   M   0.580     0.490  ...          0.2565         0.237      9\n",
            "996   M   0.590     0.465  ...          0.2615         0.275     11\n",
            "997   M   0.590     0.470  ...          0.2425         0.309      8\n",
            "998   F   0.590     0.455  ...          0.2445         0.250      8\n",
            "999   F   0.595     0.470  ...          0.1780         0.155     11\n",
            "\n",
            "[1000 rows x 9 columns]\n"
          ]
        }
      ]
    },
    {
      "cell_type": "code",
      "source": [
        "print(\"Testing data set is\")\n",
        "print(X_test)"
      ],
      "metadata": {
        "colab": {
          "base_uri": "https://localhost:8080/"
        },
        "id": "F-CRTbAcgFKE",
        "outputId": "6b6572c1-f87d-47db-a098-8c452d973d86"
      },
      "execution_count": 8,
      "outputs": [
        {
          "output_type": "stream",
          "name": "stdout",
          "text": [
            "Testing data set is\n",
            "     Sex  Length  Diameter  ...  Viscera weight  Shell weight  Rings\n",
            "1000   F   0.595     0.450  ...          0.2205        0.2500     11\n",
            "1001   M   0.595     0.475  ...          0.2435        0.2740      9\n",
            "1002   F   0.595     0.460  ...          0.2095        0.2515      9\n",
            "1003   M   0.595     0.455  ...          0.2205        0.2700      9\n",
            "1004   F   0.605     0.490  ...          0.2645        0.2950      9\n",
            "...   ..     ...       ...  ...             ...           ...    ...\n",
            "4172   F   0.565     0.450  ...          0.2390        0.2490     11\n",
            "4173   M   0.590     0.440  ...          0.2145        0.2605     10\n",
            "4174   M   0.600     0.475  ...          0.2875        0.3080      9\n",
            "4175   F   0.625     0.485  ...          0.2610        0.2960     10\n",
            "4176   M   0.710     0.555  ...          0.3765        0.4950     12\n",
            "\n",
            "[3177 rows x 9 columns]\n"
          ]
        }
      ]
    },
    {
      "cell_type": "code",
      "source": [
        "# STEP 2 - Performing linear regression analysis with Least Square Method\n",
        "X = X_train['Viscera weight']\n",
        "Y = X_train['Shell weight']\n",
        "mean_x = np.mean(X)\n",
        "mean_y = np.mean(Y)"
      ],
      "metadata": {
        "id": "fSbaJSWMgx42"
      },
      "execution_count": 24,
      "outputs": []
    },
    {
      "cell_type": "code",
      "source": [
        "print(X)     #Viscera weight"
      ],
      "metadata": {
        "colab": {
          "base_uri": "https://localhost:8080/"
        },
        "id": "_UmDwCgBiBr_",
        "outputId": "9328bc31-d925-40f5-b1de-4995fe5a0dd8"
      },
      "execution_count": 25,
      "outputs": [
        {
          "output_type": "stream",
          "name": "stdout",
          "text": [
            "0      0.1010\n",
            "1      0.0485\n",
            "2      0.1415\n",
            "3      0.1140\n",
            "4      0.0395\n",
            "        ...  \n",
            "995    0.2565\n",
            "996    0.2615\n",
            "997    0.2425\n",
            "998    0.2445\n",
            "999    0.1780\n",
            "Name: Viscera weight, Length: 1000, dtype: float64\n"
          ]
        }
      ]
    },
    {
      "cell_type": "code",
      "source": [
        "print(Y)      #Shell weight"
      ],
      "metadata": {
        "colab": {
          "base_uri": "https://localhost:8080/"
        },
        "id": "-VtaE3TEiG_X",
        "outputId": "4ca218ce-2994-4af4-86f0-b357eaf1c66e"
      },
      "execution_count": 15,
      "outputs": [
        {
          "output_type": "stream",
          "name": "stdout",
          "text": [
            "0      0.150\n",
            "1      0.070\n",
            "2      0.210\n",
            "3      0.155\n",
            "4      0.055\n",
            "       ...  \n",
            "995    0.237\n",
            "996    0.275\n",
            "997    0.309\n",
            "998    0.250\n",
            "999    0.155\n",
            "Name: Shell weight, Length: 1000, dtype: float64\n"
          ]
        }
      ]
    },
    {
      "cell_type": "code",
      "source": [
        "print(\"Mean of X values\")\n",
        "print(mean_x)"
      ],
      "metadata": {
        "colab": {
          "base_uri": "https://localhost:8080/"
        },
        "id": "LHQ3R13diLIQ",
        "outputId": "a036b581-bb6c-43b4-de27-ea43fe3dafb2"
      },
      "execution_count": 26,
      "outputs": [
        {
          "output_type": "stream",
          "name": "stdout",
          "text": [
            "Mean of X values\n",
            "0.15484450000000033\n"
          ]
        }
      ]
    },
    {
      "cell_type": "code",
      "source": [
        "print(\"Mean of Y values\")\n",
        "print(mean_y)"
      ],
      "metadata": {
        "colab": {
          "base_uri": "https://localhost:8080/"
        },
        "id": "4p-ap3mdiVuP",
        "outputId": "70c4e434-7053-4360-da74-e9d2641fa5b5"
      },
      "execution_count": 13,
      "outputs": [
        {
          "output_type": "stream",
          "name": "stdout",
          "text": [
            "Mean of Y values\n",
            "0.2175919999999998\n"
          ]
        }
      ]
    },
    {
      "cell_type": "markdown",
      "source": [
        "For Training Data"
      ],
      "metadata": {
        "id": "JMr-Zq_sqYlo"
      }
    },
    {
      "cell_type": "code",
      "source": [
        "# Calculating values of slope and y intercept\n",
        "# y = mx + c\n",
        "n = len(X)\n",
        "print(\"Number of samples in training dataset are\")\n",
        "print(n)"
      ],
      "metadata": {
        "colab": {
          "base_uri": "https://localhost:8080/"
        },
        "id": "Qhj3LGxeih6s",
        "outputId": "1d7d5d63-4f50-4ccb-a628-c328a8f8bcf1"
      },
      "execution_count": 27,
      "outputs": [
        {
          "output_type": "stream",
          "name": "stdout",
          "text": [
            "Number of samples in training dataset are\n",
            "1000\n"
          ]
        }
      ]
    },
    {
      "cell_type": "code",
      "source": [
        "numerator = 0\n",
        "denominator = 0\n",
        "for i in range (n):\n",
        "  numerator += (X[i] - mean_x) * (Y[i] - mean_y)\n",
        "  denominator += (X[i] - mean_x) ** 2\n",
        "\n",
        "m = numerator / denominator\n",
        "c = mean_y - (m * mean_x)\n",
        "\n",
        "print(\"The coefficients are as follows:\")\n",
        "print(\"Value of m:\")\n",
        "print(m)\n",
        "print(\"Value of c:\")\n",
        "print(c)"
      ],
      "metadata": {
        "colab": {
          "base_uri": "https://localhost:8080/"
        },
        "id": "mhxX-CtAjqAw",
        "outputId": "b3dc3fd0-18b5-417e-dcd1-1c6c99931b6c"
      },
      "execution_count": 28,
      "outputs": [
        {
          "output_type": "stream",
          "name": "stdout",
          "text": [
            "The coefficients are as follows:\n",
            "Value of m:\n",
            "1.3244696758250043\n",
            "Value of c:\n",
            "0.012505155281714503\n"
          ]
        }
      ]
    },
    {
      "cell_type": "code",
      "source": [
        "max_X = np.max(X)\n",
        "print(max_X)"
      ],
      "metadata": {
        "colab": {
          "base_uri": "https://localhost:8080/"
        },
        "id": "LG0zHWBZmCOm",
        "outputId": "dcc81b6d-c5d6-4c02-b1c0-9c14c6cdeaea"
      },
      "execution_count": 29,
      "outputs": [
        {
          "output_type": "stream",
          "name": "stdout",
          "text": [
            "0.541\n"
          ]
        }
      ]
    },
    {
      "cell_type": "code",
      "source": [
        "min_X = np.min(X)\n",
        "print(min_X)"
      ],
      "metadata": {
        "colab": {
          "base_uri": "https://localhost:8080/"
        },
        "id": "nTmfAI2nmL8u",
        "outputId": "af4ee7d1-d90a-439f-9e6b-40c009ca0dcf"
      },
      "execution_count": 30,
      "outputs": [
        {
          "output_type": "stream",
          "name": "stdout",
          "text": [
            "0.0005\n"
          ]
        }
      ]
    },
    {
      "cell_type": "code",
      "source": [
        "x = np.linspace(min_X,max_X,1000)\n",
        "y = m * x + c\n",
        "#Plotting line\n",
        "plt.plot(x,y,color='#58b970',label='Regression Line')\n",
        "plt.scatter(X,Y,c=\"#ef5423\",label='Scatter Plot')\n",
        "\n",
        "plt.xlabel('No. of Rings')\n",
        "plt.ylabel('Shell weight')\n",
        "plt.legend()\n",
        "plt.show()"
      ],
      "metadata": {
        "colab": {
          "base_uri": "https://localhost:8080/",
          "height": 279
        },
        "id": "7vqEvYokmWUr",
        "outputId": "ed4a35dc-9eae-4f07-9bc4-24e356b86f2b"
      },
      "execution_count": 31,
      "outputs": [
        {
          "output_type": "display_data",
          "data": {
            "image/png": "[encoded data removed]",
            "text/plain": [
              "<Figure size 432x288 with 1 Axes>"
            ]
          },
          "metadata": {
            "needs_background": "light"
          }
        }
      ]
    },
    {
      "cell_type": "code",
      "source": [
        "# Calculating Root mean squared error\n",
        "rmse = 0\n",
        "sse = 0\n",
        "for i in range (n):\n",
        "  y_pred = m * X[i] + c\n",
        "  sse += (Y[i] - y_pred) ** 2\n",
        "\n",
        "print(\"Mean Square Error for training data\")\n",
        "mse = sse/m\n",
        "print(mse)\n",
        "print(\"RMSE value\")\n",
        "rmse = np.sqrt(mse)\n",
        "print(rmse)"
      ],
      "metadata": {
        "colab": {
          "base_uri": "https://localhost:8080/"
        },
        "id": "NBopo0qmoMJ-",
        "outputId": "7780cbfa-2327-46d2-e060-6ec0d693bbab"
      },
      "execution_count": 34,
      "outputs": [
        {
          "output_type": "stream",
          "name": "stdout",
          "text": [
            "Mean Square Error for training data\n",
            "3.017551374045245\n",
            "RMSE value\n",
            "1.7371100638834733\n"
          ]
        }
      ]
    },
    {
      "cell_type": "markdown",
      "source": [
        "For Testing data\n"
      ],
      "metadata": {
        "id": "LdWaIuDFrHmf"
      }
    },
    {
      "cell_type": "code",
      "source": [
        "# Calculating values of slope and y intercept\n",
        "# y = mx + c\n",
        "n1 = len(Y)\n",
        "print(\"Number of samples in testing dataset are\")\n",
        "print(n1)"
      ],
      "metadata": {
        "colab": {
          "base_uri": "https://localhost:8080/"
        },
        "id": "6SoFGnqqrKDk",
        "outputId": "d6a78ea2-a609-4a92-db76-d2338cc6d9ab"
      },
      "execution_count": 37,
      "outputs": [
        {
          "output_type": "stream",
          "name": "stdout",
          "text": [
            "Number of samples in testing dataset are\n",
            "1000\n"
          ]
        }
      ]
    },
    {
      "cell_type": "code",
      "source": [
        "numerator = 0\n",
        "denominator = 0\n",
        "for i in range (n):\n",
        "  numerator += (Y[i] - mean_y) * (X[i] - mean_x)\n",
        "  denominator += (Y[i] - mean_y) ** 2\n",
        "\n",
        "m = numerator / denominator\n",
        "c = mean_x - (m * mean_y)\n",
        "\n",
        "print(\"The coefficients are as follows:\")\n",
        "print(\"Value of m:\")\n",
        "print(m)\n",
        "print(\"Value of c:\")\n",
        "print(c)"
      ],
      "metadata": {
        "colab": {
          "base_uri": "https://localhost:8080/"
        },
        "id": "DofEYKR3suXS",
        "outputId": "bb4a5c05-1c16-4128-ad6a-ba6835419277"
      },
      "execution_count": 38,
      "outputs": [
        {
          "output_type": "stream",
          "name": "stdout",
          "text": [
            "The coefficients are as follows:\n",
            "Value of m:\n",
            "0.608626256930474\n",
            "Value of c:\n",
            "0.02241229550198473\n"
          ]
        }
      ]
    },
    {
      "cell_type": "code",
      "source": [
        "max_Y = np.max(Y)\n",
        "print(max_Y)"
      ],
      "metadata": {
        "colab": {
          "base_uri": "https://localhost:8080/"
        },
        "id": "ohN14Yimtg80",
        "outputId": "78216c00-4595-4d42-cf87-c0e55a9d7045"
      },
      "execution_count": 39,
      "outputs": [
        {
          "output_type": "stream",
          "name": "stdout",
          "text": [
            "1.005\n"
          ]
        }
      ]
    },
    {
      "cell_type": "code",
      "source": [
        "min_Y = np.min(Y)\n",
        "print(min_Y)"
      ],
      "metadata": {
        "colab": {
          "base_uri": "https://localhost:8080/"
        },
        "id": "cqWYQHMAtq5m",
        "outputId": "abbeacf6-ded3-4ceb-e260-f125b8c1ed31"
      },
      "execution_count": 40,
      "outputs": [
        {
          "output_type": "stream",
          "name": "stdout",
          "text": [
            "0.0015\n"
          ]
        }
      ]
    },
    {
      "cell_type": "code",
      "source": [
        "x = np.linspace(min_Y,max_Y,1000)\n",
        "y = m * x + c\n",
        "#Plotting line\n",
        "plt.plot(x,y,color='#58b970',label='Regression Line')\n",
        "plt.scatter(X,Y,c=\"#ef5423\",label='Scatter Plot')\n",
        "\n",
        "plt.xlabel('No. of Rings')\n",
        "plt.ylabel('Shell weight')\n",
        "plt.legend()\n",
        "plt.show()"
      ],
      "metadata": {
        "colab": {
          "base_uri": "https://localhost:8080/",
          "height": 279
        },
        "id": "f3x0wWcItymX",
        "outputId": "e4eba3e6-36c8-41d6-eb30-0d129b8822a0"
      },
      "execution_count": 41,
      "outputs": [
        {
          "output_type": "display_data",
          "data": {
            "image/png": "[encoded data removed]",
            "text/plain": [
              "<Figure size 432x288 with 1 Axes>"
            ]
          },
          "metadata": {
            "needs_background": "light"
          }
        }
      ]
    },
    {
      "cell_type": "code",
      "source": [
        "# Calculating Root mean squared error\n",
        "rmse = 0\n",
        "sse = 0\n",
        "for i in range (n):\n",
        "  y_pred = m * X[i] + c\n",
        "  sse += (Y[i] - y_pred) ** 2\n",
        "\n",
        "print(\"Mean Square Error for testing data\")\n",
        "mse = sse/m\n",
        "print(mse)\n",
        "print(\"RMSE value\")\n",
        "rmse = np.sqrt(mse)\n",
        "print(rmse)"
      ],
      "metadata": {
        "colab": {
          "base_uri": "https://localhost:8080/"
        },
        "id": "8dXJUsG9t8Gk",
        "outputId": "10d5661e-0b13-496d-cf80-2362610afada"
      },
      "execution_count": 43,
      "outputs": [
        {
          "output_type": "stream",
          "name": "stdout",
          "text": [
            "Mean Square Error for testing data\n",
            "31.28153032984391\n",
            "RMSE value\n",
            "5.592989391179274\n"
          ]
        }
      ]
    }
  ]
}