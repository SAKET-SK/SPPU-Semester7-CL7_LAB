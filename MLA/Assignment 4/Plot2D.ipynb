{
  "nbformat": 4,
  "nbformat_minor": 0,
  "metadata": {
    "colab": {
      "name": "Plot2D.ipynb",
      "provenance": []
    },
    "kernelspec": {
      "name": "python3",
      "display_name": "Python 3"
    },
    "language_info": {
      "name": "python"
    }
  },
  "cells": [
    {
      "cell_type": "code",
      "metadata": {
        "id": "0JORqj0Ug_Js"
      },
      "source": [
        "import matplotlib.pyplot as plt\n",
        "import numpy as np\n",
        "import pandas as pd"
      ],
      "execution_count": 1,
      "outputs": []
    },
    {
      "cell_type": "code",
      "metadata": {
        "id": "szVcafCyhSvx"
      },
      "source": [
        "data=pd.read_csv(\"sample_data/headbrain.csv\")"
      ],
      "execution_count": 3,
      "outputs": []
    },
    {
      "cell_type": "code",
      "metadata": {
        "colab": {
          "base_uri": "https://localhost:8080/"
        },
        "id": "2EyZ6JkBhfnB",
        "outputId": "d4594c9f-95b1-46f8-ef10-7ba2093a8cd2"
      },
      "source": [
        "print(data)"
      ],
      "execution_count": 4,
      "outputs": [
        {
          "output_type": "stream",
          "name": "stdout",
          "text": [
            "     Gender  Age Range  Head Size(cm^3)  Brain Weight(grams)\n",
            "0         1          1             4512                 1530\n",
            "1         1          1             3738                 1297\n",
            "2         1          1             4261                 1335\n",
            "3         1          1             3777                 1282\n",
            "4         1          1             4177                 1590\n",
            "..      ...        ...              ...                  ...\n",
            "232       2          2             3214                 1110\n",
            "233       2          2             3394                 1215\n",
            "234       2          2             3233                 1104\n",
            "235       2          2             3352                 1170\n",
            "236       2          2             3391                 1120\n",
            "\n",
            "[237 rows x 4 columns]\n"
          ]
        }
      ]
    },
    {
      "cell_type": "markdown",
      "metadata": {
        "id": "bTcxTYb9hnZ5"
      },
      "source": [
        "Let us divide data set in training and testing data sets"
      ]
    },
    {
      "cell_type": "code",
      "metadata": {
        "id": "p6ds2Z13hoeH"
      },
      "source": [
        "X_train =data[:200]\n",
        "X_test =data[200:]"
      ],
      "execution_count": 5,
      "outputs": []
    },
    {
      "cell_type": "code",
      "metadata": {
        "colab": {
          "base_uri": "https://localhost:8080/"
        },
        "id": "6osz_RPIhtGh",
        "outputId": "575e719d-0456-4b16-9adf-f3490ce2d4c1"
      },
      "source": [
        "print(\"Training data set as follows\") \n",
        "print(X_train) \n",
        "print(\"Testing data set as follows\") \n",
        "print(X_test)"
      ],
      "execution_count": 6,
      "outputs": [
        {
          "output_type": "stream",
          "name": "stdout",
          "text": [
            "Training data set as follows\n",
            "     Gender  Age Range  Head Size(cm^3)  Brain Weight(grams)\n",
            "0         1          1             4512                 1530\n",
            "1         1          1             3738                 1297\n",
            "2         1          1             4261                 1335\n",
            "3         1          1             3777                 1282\n",
            "4         1          1             4177                 1590\n",
            "..      ...        ...              ...                  ...\n",
            "195       2          2             2773                 1076\n",
            "196       2          2             3058                 1120\n",
            "197       2          2             3344                 1220\n",
            "198       2          2             3493                 1240\n",
            "199       2          2             3297                 1220\n",
            "\n",
            "[200 rows x 4 columns]\n",
            "Testing data set as follows\n",
            "     Gender  Age Range  Head Size(cm^3)  Brain Weight(grams)\n",
            "200       2          2             3360                 1095\n",
            "201       2          2             3228                 1235\n",
            "202       2          2             3277                 1105\n",
            "203       2          2             3851                 1405\n",
            "204       2          2             3067                 1150\n",
            "205       2          2             3692                 1305\n",
            "206       2          2             3402                 1220\n",
            "207       2          2             3995                 1296\n",
            "208       2          2             3318                 1175\n",
            "209       2          2             2720                  955\n",
            "210       2          2             2937                 1070\n",
            "211       2          2             3580                 1320\n",
            "212       2          2             2939                 1060\n",
            "213       2          2             2989                 1130\n",
            "214       2          2             3586                 1250\n",
            "215       2          2             3156                 1225\n",
            "216       2          2             3246                 1180\n",
            "217       2          2             3170                 1178\n",
            "218       2          2             3268                 1142\n",
            "219       2          2             3389                 1130\n",
            "220       2          2             3381                 1185\n",
            "221       2          2             2864                 1012\n",
            "222       2          2             3740                 1280\n",
            "223       2          2             3479                 1103\n",
            "224       2          2             3647                 1408\n",
            "225       2          2             3716                 1300\n",
            "226       2          2             3284                 1246\n",
            "227       2          2             4204                 1380\n",
            "228       2          2             3735                 1350\n",
            "229       2          2             3218                 1060\n",
            "230       2          2             3685                 1350\n",
            "231       2          2             3704                 1220\n",
            "232       2          2             3214                 1110\n",
            "233       2          2             3394                 1215\n",
            "234       2          2             3233                 1104\n",
            "235       2          2             3352                 1170\n",
            "236       2          2             3391                 1120\n"
          ]
        }
      ]
    },
    {
      "cell_type": "code",
      "metadata": {
        "id": "EHQJOatNh7iJ"
      },
      "source": [
        "X = X_train['Head Size(cm^3)'].values\n",
        "Y = X_train['Brain Weight(grams)'].values\n",
        "mean_x = np.mean(X)\n",
        "mean_y = np.mean(Y)"
      ],
      "execution_count": 7,
      "outputs": []
    },
    {
      "cell_type": "code",
      "metadata": {
        "colab": {
          "base_uri": "https://localhost:8080/"
        },
        "id": "ijl176BTh9FK",
        "outputId": "bdd219bc-4da8-483a-8756-face9d1eb672"
      },
      "source": [
        "print(X)"
      ],
      "execution_count": 8,
      "outputs": [
        {
          "output_type": "stream",
          "name": "stdout",
          "text": [
            "[4512 3738 4261 3777 4177 3585 3785 3559 3613 3982 3443 3993 3640 4208\n",
            " 3832 3876 3497 3466 3095 4424 3878 4046 3804 3710 4747 4423 4036 4022\n",
            " 3454 4175 3787 3796 4103 4161 4158 3814 3527 3748 3334 3492 3962 3505\n",
            " 4315 3804 3863 4034 4308 3165 3641 3644 3891 3793 4270 4063 4012 3458\n",
            " 3890 4166 3935 3669 3866 3393 4442 4253 3727 3329 3415 3372 4430 4381\n",
            " 4008 3858 4121 4057 3824 3394 3558 3362 3930 3835 3830 3856 3249 3577\n",
            " 3933 3850 3309 3406 3506 3907 4160 3318 3662 3899 3700 3779 3473 3490\n",
            " 3654 3478 3495 3834 3876 3661 3618 3648 4032 3399 3916 4430 3695 3524\n",
            " 3571 3594 3383 3499 3589 3900 4114 3937 3399 4200 4488 3614 4051 3782\n",
            " 3391 3124 4053 3582 3666 3532 4046 3667 2857 3436 3791 3302 3104 3171\n",
            " 3572 3530 3175 3438 3903 3899 3401 3267 3451 3090 3413 3323 3680 3439\n",
            " 3853 3156 3279 3707 4006 3269 3071 3779 3548 3292 3497 3082 3248 3358\n",
            " 3803 3566 3145 3503 3571 3724 3615 3203 3609 3561 3979 3533 3689 3158\n",
            " 4005 3181 3479 3642 3632 3069 3394 3703 3165 3354 3000 3687 3556 2773\n",
            " 3058 3344 3493 3297]\n"
          ]
        }
      ]
    },
    {
      "cell_type": "code",
      "metadata": {
        "colab": {
          "base_uri": "https://localhost:8080/"
        },
        "id": "RitdRM6uiBsw",
        "outputId": "e22195fa-bd08-462f-a892-e267d7bf07a1"
      },
      "source": [
        "print(Y)"
      ],
      "execution_count": 9,
      "outputs": [
        {
          "output_type": "stream",
          "name": "stdout",
          "text": [
            "[1530 1297 1335 1282 1590 1300 1400 1255 1355 1375 1340 1380 1355 1522\n",
            " 1208 1405 1358 1292 1340 1400 1357 1287 1275 1270 1635 1505 1490 1485\n",
            " 1310 1420 1318 1432 1364 1405 1432 1207 1375 1350 1236 1250 1350 1320\n",
            " 1525 1570 1340 1422 1506 1215 1311 1300 1224 1350 1335 1390 1400 1225\n",
            " 1310 1560 1330 1222 1415 1175 1330 1485 1470 1135 1310 1154 1510 1415\n",
            " 1468 1390 1380 1432 1240 1195 1225 1188 1252 1315 1245 1430 1279 1245\n",
            " 1309 1412 1120 1220 1280 1440 1370 1192 1230 1346 1290 1165 1240 1132\n",
            " 1242 1270 1218 1430 1588 1320 1290 1260 1425 1226 1360 1620 1310 1250\n",
            " 1295 1290 1290 1275 1250 1270 1362 1300 1173 1256 1440 1180 1306 1350\n",
            " 1125 1165 1312 1300 1270 1335 1450 1310 1027 1235 1260 1165 1080 1127\n",
            " 1270 1252 1200 1290 1334 1380 1140 1243 1340 1168 1322 1249 1321 1192\n",
            " 1373 1170 1265 1235 1302 1241 1078 1520 1460 1075 1280 1180 1250 1190\n",
            " 1374 1306 1202 1240 1316 1280 1350 1180 1210 1127 1324 1210 1290 1100\n",
            " 1280 1175 1160 1205 1163 1022 1243 1350 1237 1204 1090 1355 1250 1076\n",
            " 1120 1220 1240 1220]\n"
          ]
        }
      ]
    },
    {
      "cell_type": "code",
      "metadata": {
        "colab": {
          "base_uri": "https://localhost:8080/"
        },
        "id": "o0QNwZghiFLg",
        "outputId": "deb18be5-6d7f-4e9e-b755-ba4563a5f273"
      },
      "source": [
        "print(\"Printing mean x\")\n",
        "print(mean_x)"
      ],
      "execution_count": 10,
      "outputs": [
        {
          "output_type": "stream",
          "name": "stdout",
          "text": [
            "Printing mean x\n",
            "3679.225\n"
          ]
        }
      ]
    },
    {
      "cell_type": "code",
      "metadata": {
        "colab": {
          "base_uri": "https://localhost:8080/"
        },
        "id": "jlXp4TMAiIsy",
        "outputId": "2187d8e8-e3b7-4b16-a644-311925427a3f"
      },
      "source": [
        "print(\"Printing mean y\")\n",
        "print(mean_y)"
      ],
      "execution_count": 11,
      "outputs": [
        {
          "output_type": "stream",
          "name": "stdout",
          "text": [
            "Printing mean y\n",
            "1299.01\n"
          ]
        }
      ]
    },
    {
      "cell_type": "code",
      "metadata": {
        "colab": {
          "base_uri": "https://localhost:8080/"
        },
        "id": "Be4_z9yqiLsO",
        "outputId": "74945a21-cd2e-4297-ee65-d93a5a824a95"
      },
      "source": [
        "m = len(X)\n",
        "print(\"Number of samples in training set\")\n",
        "print(m)\n",
        "numer = 0\n",
        "denom = 0\n",
        "for i in range(m):\n",
        "    numer += (X[i] - mean_x) * (Y[i] - mean_y)\n",
        "    denom += (X[i] - mean_x) ** 2\n",
        "\n",
        "b1 = numer / denom\n",
        "b0 = mean_y - (b1 * mean_x)\n",
        "print(\"Coefficient and bias is as follows\")\n",
        "print(b1, b0)"
      ],
      "execution_count": 12,
      "outputs": [
        {
          "output_type": "stream",
          "name": "stdout",
          "text": [
            "Number of samples in training set\n",
            "200\n",
            "Coefficient and bias is as follows\n",
            "0.24984027563731726 379.79141186829145\n"
          ]
        }
      ]
    },
    {
      "cell_type": "markdown",
      "metadata": {
        "id": "ROvAfI74iX9c"
      },
      "source": [
        "Plotting Values and Regression Line"
      ]
    },
    {
      "cell_type": "code",
      "metadata": {
        "id": "PFJKFZSbiYzk"
      },
      "source": [
        "max_x = np.max(X)\n",
        "min_x = np.min(X)"
      ],
      "execution_count": 13,
      "outputs": []
    },
    {
      "cell_type": "code",
      "metadata": {
        "id": "mILvlGzZib-G"
      },
      "source": [
        ""
      ],
      "execution_count": null,
      "outputs": []
    },
    {
      "cell_type": "markdown",
      "metadata": {
        "id": "CfHDSHXNie0J"
      },
      "source": [
        "Calculating line values x and y"
      ]
    },
    {
      "cell_type": "code",
      "metadata": {
        "id": "EFy3IMzUifsG"
      },
      "source": [
        "x = np.linspace(min_x, max_x)\n",
        "y = b0 + b1 * x"
      ],
      "execution_count": 14,
      "outputs": []
    },
    {
      "cell_type": "markdown",
      "metadata": {
        "id": "pKg9Qd7jilyk"
      },
      "source": [
        "Ploting Line"
      ]
    },
    {
      "cell_type": "code",
      "metadata": {
        "colab": {
          "base_uri": "https://localhost:8080/",
          "height": 279
        },
        "id": "9oF_E7SGiy86",
        "outputId": "fe6ce03a-e8f8-44ad-bc64-4a4be462242e"
      },
      "source": [
        "plt.scatter(X, Y, c='GREEN', label='Scatter Plot headsize vs brain wt')\n",
        "\n",
        "plt.xlabel('Head Size in cm^3')\n",
        "plt.ylabel('Brain Weight in grams')\n",
        "plt.legend()\n",
        "plt.show()"
      ],
      "execution_count": 19,
      "outputs": [
        {
          "output_type": "display_data",
          "data": {
            "image/png": "[encoded data removed]",
            "text/plain": [
              "<Figure size 432x288 with 1 Axes>"
            ]
          },
          "metadata": {
            "needs_background": "light"
          }
        }
      ]
    },
    {
      "cell_type": "markdown",
      "metadata": {
        "id": "s8eYvv1njDsm"
      },
      "source": [
        "Calculating Root Mean Squares Error"
      ]
    },
    {
      "cell_type": "code",
      "metadata": {
        "colab": {
          "base_uri": "https://localhost:8080/"
        },
        "id": "PSj1Pyd7jEf5",
        "outputId": "22679e26-78ad-4733-b3e7-940e2ece8817"
      },
      "source": [
        "sse = 0\n",
        "for i in range(m):\n",
        "    y_pred = b0 + b1 * X[i]   #y_pred i.e brain wt= bo=b1* head size\n",
        "    sse += (Y[i] - y_pred) ** 2    #Y[i] means brain weight\n",
        "\n",
        "print(\"Mean sqaure error of brain wt  of train data\",sse)\n",
        "mse = sse/m\n",
        "rmse = np.sqrt(mse)\n",
        "print(\"Root Mean sqaure error is\",rmse)"
      ],
      "execution_count": 20,
      "outputs": [
        {
          "output_type": "stream",
          "name": "stdout",
          "text": [
            "Mean sqaure error of brain wt  of train data 1069588.9925686093\n",
            "Root Mean sqaure error is 73.12964489755879\n"
          ]
        }
      ]
    },
    {
      "cell_type": "code",
      "metadata": {
        "colab": {
          "base_uri": "https://localhost:8080/"
        },
        "id": "FR7vhIRAjJ_M",
        "outputId": "67655f70-bd73-495a-a37d-219ba44aef8d"
      },
      "source": [
        "# Score of determination starts here #The coefficient of determination (denoted by R2) is a key output of regression analysis\n",
        "# The coefficient of determination is the square of the correlation (r) between predicted y scores and actual y scores; #thus, it ranges from 0 to 1.\n",
        "ss_t = 0\n",
        "ss_r = 0\n",
        "for i in range(m):\n",
        "    y_pred = b0 + b1 * X[i]\n",
        "    ss_t += (Y[i] - mean_y) ** 2\n",
        "    ss_r += (Y[i] - y_pred) ** 2\n",
        "scorer2 = 1 - (ss_r/ss_t)\n",
        "print(\"R^2 score for training data is\",scorer2)"
      ],
      "execution_count": 22,
      "outputs": [
        {
          "output_type": "stream",
          "name": "stdout",
          "text": [
            "R^2 score for training data is 0.5949551398852462\n"
          ]
        }
      ]
    }
  ]
}