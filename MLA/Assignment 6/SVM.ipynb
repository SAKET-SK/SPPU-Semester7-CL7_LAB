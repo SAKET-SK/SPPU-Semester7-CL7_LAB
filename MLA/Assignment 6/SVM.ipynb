{
  "nbformat": 4,
  "nbformat_minor": 0,
  "metadata": {
    "colab": {
      "name": "Untitled1.ipynb",
      "provenance": []
    },
    "kernelspec": {
      "name": "python3",
      "display_name": "Python 3"
    },
    "language_info": {
      "name": "python"
    }
  },
  "cells": [
    {
      "cell_type": "markdown",
      "metadata": {
        "id": "3gLEAJJ6aL_T"
      },
      "source": [
        "Let’s get started:\n",
        "First, we are going to need some basic dependencies:"
      ]
    },
    {
      "cell_type": "code",
      "metadata": {
        "id": "CCVsJpfIZivV"
      },
      "source": [
        "import numpy as np\n",
        "import matplotlib.pyplot as plt\n",
        "from matplotlib import style\n",
        "style.use(\"ggplot\")\n",
        "from sklearn import svm"
      ],
      "execution_count": 1,
      "outputs": []
    },
    {
      "cell_type": "markdown",
      "metadata": {
        "id": "5XFr9_cuaTTu"
      },
      "source": [
        "Next, let us\n",
        "consider that we have two features to consider. These features will be visualized as axis\n",
        "on our graph. So something like:"
      ]
    },
    {
      "cell_type": "code",
      "metadata": {
        "id": "26LHkNaKaDLh"
      },
      "source": [
        "x = [1 , 5 , 1.5 , 8 , 1 , 9 ]\n",
        "y = [2 , 8 , 1.8, 8 , 0.6 , 11 ]"
      ],
      "execution_count": 2,
      "outputs": []
    },
    {
      "cell_type": "code",
      "metadata": {
        "colab": {
          "base_uri": "https://localhost:8080/",
          "height": 265
        },
        "id": "_gc8gHFpaxbP",
        "outputId": "7adc11a7-f3e9-47e0-9e86-8b94732d9a92"
      },
      "source": [
        "plt.scatter(x,y)\n",
        "plt.show()"
      ],
      "execution_count": 3,
      "outputs": [
        {
          "output_type": "display_data",
          "data": {
            "image/png": "[encoded data removed]",
            "text/plain": [
              "<Figure size 432x288 with 1 Axes>"
            ]
          },
          "metadata": {
            "needs_background": "light"
          }
        }
      ]
    },
    {
      "cell_type": "markdown",
      "metadata": {
        "id": "ybqUD3mUbD5g"
      },
      "source": [
        "Let us translate our above x and y coordinates into an array that is compiled of the x andy\n",
        "coordinates, where x is a feature and y is a feature."
      ]
    },
    {
      "cell_type": "code",
      "metadata": {
        "id": "a91HxiVObFb-"
      },
      "source": [
        "X = np.array([[1,2],[5,8],[1.5,1.8],[8,8],[1,0.6],[9,11]])\n",
        "y = [0,1,0,1,0,1]     #labels or targets"
      ],
      "execution_count": 5,
      "outputs": []
    },
    {
      "cell_type": "markdown",
      "metadata": {
        "id": "f_YykJPNbyCH"
      },
      "source": [
        "Moving along, we are now going to define our classifier:"
      ]
    },
    {
      "cell_type": "code",
      "metadata": {
        "id": "r48fWG7Pbrim"
      },
      "source": [
        "clf = svm.SVC(kernel=\"linear\", C = 1.0)"
      ],
      "execution_count": 6,
      "outputs": []
    },
    {
      "cell_type": "markdown",
      "metadata": {
        "id": "YIzL8EBCcK4_"
      },
      "source": [
        "C is a valuation of how badly you want to\n",
        "properly classify, or fit, everything."
      ]
    },
    {
      "cell_type": "code",
      "metadata": {
        "colab": {
          "base_uri": "https://localhost:8080/"
        },
        "id": "m7UxiWdtcBlM",
        "outputId": "d880d4de-4d18-4548-8a7d-13f205f1176f"
      },
      "source": [
        "clf.fit(X,y)"
      ],
      "execution_count": 7,
      "outputs": [
        {
          "output_type": "execute_result",
          "data": {
            "text/plain": [
              "SVC(C=1.0, break_ties=False, cache_size=200, class_weight=None, coef0=0.0,\n",
              "    decision_function_shape='ovr', degree=3, gamma='scale', kernel='linear',\n",
              "    max_iter=-1, probability=False, random_state=None, shrinking=True,\n",
              "    tol=0.001, verbose=False)"
            ]
          },
          "metadata": {},
          "execution_count": 7
        }
      ]
    },
    {
      "cell_type": "markdown",
      "metadata": {
        "id": "tiXAata8cg7j"
      },
      "source": [
        "Now lets predict and test"
      ]
    },
    {
      "cell_type": "code",
      "metadata": {
        "colab": {
          "base_uri": "https://localhost:8080/"
        },
        "id": "Nqh2hUXidGA8",
        "outputId": "8502afa4-827f-4fbd-c606-d3ed933fb8f0"
      },
      "source": [
        "w = clf.coef_[0]\n",
        "print(w)"
      ],
      "execution_count": 10,
      "outputs": [
        {
          "output_type": "stream",
          "name": "stdout",
          "text": [
            "[0.1380943  0.24462418]\n"
          ]
        }
      ]
    },
    {
      "cell_type": "code",
      "metadata": {
        "id": "8tq6H91zdOZV"
      },
      "source": [
        "a = -w[0] / w[1]"
      ],
      "execution_count": 11,
      "outputs": []
    },
    {
      "cell_type": "code",
      "metadata": {
        "id": "r3hihva7dVlf"
      },
      "source": [
        "xx = np.linspace(0,12)\n",
        "yy = a * xx - clf.intercept_[0] / w[1]"
      ],
      "execution_count": 12,
      "outputs": []
    },
    {
      "cell_type": "code",
      "metadata": {
        "colab": {
          "base_uri": "https://localhost:8080/",
          "height": 267
        },
        "id": "500kf_Khdn60",
        "outputId": "294040f2-6ac5-42cb-fd10-9418e1a04ec3"
      },
      "source": [
        "h0 = plt.plot(xx,yy,'k-',label=\"non weighted div\")"
      ],
      "execution_count": 13,
      "outputs": [
        {
          "output_type": "display_data",
          "data": {
            "image/png": "[encoded data removed]",
            "text/plain": [
              "<Figure size 432x288 with 1 Axes>"
            ]
          },
          "metadata": {
            "needs_background": "light"
          }
        }
      ]
    },
    {
      "cell_type": "code",
      "metadata": {
        "colab": {
          "base_uri": "https://localhost:8080/",
          "height": 282
        },
        "id": "_Av7tsOid4iI",
        "outputId": "929b3f85-d695-46cb-8bcd-4f05367e51dd"
      },
      "source": [
        "plt.scatter(X[:,0],X[:,1],c=y)\n",
        "plt.legend()\n",
        "plt.show()"
      ],
      "execution_count": 16,
      "outputs": [
        {
          "output_type": "stream",
          "name": "stderr",
          "text": [
            "No handles with labels found to put in legend.\n"
          ]
        },
        {
          "output_type": "display_data",
          "data": {
            "image/png": "[encoded data removed]",
            "text/plain": [
              "<Figure size 432x288 with 1 Axes>"
            ]
          },
          "metadata": {
            "needs_background": "light"
          }
        }
      ]
    },
    {
      "cell_type": "code",
      "metadata": {
        "colab": {
          "base_uri": "https://localhost:8080/",
          "height": 265
        },
        "id": "l7j2vDbteaTN",
        "outputId": "53b78e44-04d4-4dda-c59e-a06784047471"
      },
      "source": [
        "h0 = plt.plot(xx,yy,'k-',label=\"non weighted div\")\n",
        "plt.scatter(X[:,0],X[:,1],c=y)\n",
        "plt.legend()\n",
        "plt.show()"
      ],
      "execution_count": 17,
      "outputs": [
        {
          "output_type": "display_data",
          "data": {
            "image/png": "[encoded data removed]",
            "text/plain": [
              "<Figure size 432x288 with 1 Axes>"
            ]
          },
          "metadata": {
            "needs_background": "light"
          }
        }
      ]
    }
  ]
}